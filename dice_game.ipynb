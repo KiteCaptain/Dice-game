{
 "cells": [
  {
   "cell_type": "code",
   "execution_count": 3,
   "metadata": {},
   "outputs": [
    {
     "name": "stdout",
     "output_type": "stream",
     "text": [
      "2\n",
      "2\n"
     ]
    }
   ],
   "source": [
    "import random\n",
    "def roll():\n",
    "    max_value = 6\n",
    "    min_value = 1\n",
    "    roll = random.randint(min_value, max_value)\n",
    "    return roll\n",
    "\n",
    "while True:\n",
    "    players = input(\"enter number of players (2-4): \")\n",
    "    if players.isdigit():\n",
    "        players = int(players)\n",
    "        print(players)\n",
    "        if 2 <= players <= 4:\n",
    "            break\n",
    "        else:\n",
    "            print(\" players should be between 2 and 4. \")\n",
    "    else:\n",
    "        print(\" Invalid, choice try again.\")\n",
    "        \n",
    "print(players)\n",
    "\n"
   ]
  },
  {
   "cell_type": "code",
   "execution_count": 4,
   "metadata": {},
   "outputs": [
    {
     "name": "stdout",
     "output_type": "stream",
     "text": [
      "[0, 0]\n"
     ]
    }
   ],
   "source": [
    "max_score = 50\n",
    "current_score = 0"
   ]
  },
  {
   "cell_type": "code",
   "execution_count": 11,
   "metadata": {},
   "outputs": [
    {
     "name": "stdout",
     "output_type": "stream",
     "text": [
      "0\n"
     ]
    }
   ],
   "source": [
    "players_dict = {}\n",
    "for i in range(players):\n",
    "    player_id = f\"player{i + 1}\"\n",
    "    player_score = 0\n",
    "    \n",
    "    players_dict[player_id] = player_score\n",
    "    \n",
    "print(players_dict['player1'])"
   ]
  },
  {
   "cell_type": "code",
   "execution_count": null,
   "metadata": {},
   "outputs": [],
   "source": [
    "# while max(player_scores) < max_score:\n",
    "while  player_scores < max_score:\n",
    "    for player_idx in range(players):\n",
    "        print(\"\\n player number\", player_idx + 1 ,  \"turn has just started! \\n\") \n",
    "        current_score = current_score\n",
    "        while True:\n",
    "            should_roll = input(\"would you like to roll (y)? \" )\n",
    "            if should_roll.lower() != \"y\":\n",
    "                break\n",
    "            value = roll()\n",
    "            if value == 1:\n",
    "                print(\"you rolled 1!, turn done!\")\n",
    "                current_score = 0\n",
    "                break\n",
    "            else:\n",
    "                current_score += value\n",
    "                print(\"you rolled a:\", value)\n",
    "                print (\"your score is:\", current_score)\n",
    "    player_scores[player_idx] += current_score\n",
    "    print(\"your total score is\", player_scores[player_idx])"
   ]
  },
  {
   "cell_type": "code",
   "execution_count": 6,
   "metadata": {},
   "outputs": [
    {
     "name": "stdout",
     "output_type": "stream",
     "text": [
      "{'user1': {'name': 'User 1', 'email': 'user1@example.com', 'age': 26}, 'user2': {'name': 'User 2', 'email': 'user2@example.com', 'age': 27}, 'user3': {'name': 'User 3', 'email': 'user3@example.com', 'age': 28}, 'user4': {'name': 'User 4', 'email': 'user4@example.com', 'age': 29}, 'user5': {'name': 'User 5', 'email': 'user5@example.com', 'age': 30}}\n"
     ]
    }
   ],
   "source": [
    "# Define the number of users\n",
    "num_users = 5\n",
    "\n",
    "# Initialize an empty dictionary to store user information\n",
    "user_dict = {}\n",
    "\n",
    "# Generate user information dynamically\n",
    "for i in range(1, num_users + 1):\n",
    "    # Create a unique user ID or username (you can customize this)\n",
    "    user_id = f\"user{i}\"\n",
    "    \n",
    "    # Generate user-specific information (you can customize this as well)\n",
    "    user_info = {\n",
    "        \"name\": f\"User {i}\",\n",
    "        \"email\": f\"user{i}@example.com\",\n",
    "        \"age\": 25 + i,\n",
    "        # Add more fields as needed\n",
    "    }\n",
    "    \n",
    "    # Add the user information to the dictionary\n",
    "    user_dict[user_id] = user_info\n",
    "\n",
    "# Print the generated dictionary\n",
    "print(user_dict)\n"
   ]
  }
 ],
 "metadata": {
  "kernelspec": {
   "display_name": "Python 3",
   "language": "python",
   "name": "python3"
  },
  "language_info": {
   "codemirror_mode": {
    "name": "ipython",
    "version": 3
   },
   "file_extension": ".py",
   "mimetype": "text/x-python",
   "name": "python",
   "nbconvert_exporter": "python",
   "pygments_lexer": "ipython3",
   "version": "3.11.1"
  },
  "orig_nbformat": 4
 },
 "nbformat": 4,
 "nbformat_minor": 2
}
